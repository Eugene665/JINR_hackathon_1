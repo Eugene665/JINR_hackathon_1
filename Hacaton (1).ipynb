{
 "cells": [
  {
   "cell_type": "code",
   "execution_count": 1,
   "id": "2cd1f5e6-136a-4ca4-a1ec-ad5d92d0cc2e",
   "metadata": {},
   "outputs": [],
   "source": [
    "import matplotlib as mpl\n",
    "import numpy as np\n",
    "import matplotlib.pyplot as plt\n",
    "import pandas as pd\n",
    "import seaborn as sns\n",
    "from scipy.integrate import solve_ivp\n",
    "from functools import partial\n",
    "from scipy.integrate import quad\n",
    "from ipywidgets import interact, interact_manual, Label\n",
    "from scipy.optimize import curve_fit\n",
    "from scipy import odr"
   ]
  },
  {
   "cell_type": "code",
   "execution_count": 2,
   "id": "a28215b3-cb5a-4d78-81f6-a2e44485f50a",
   "metadata": {},
   "outputs": [],
   "source": [
    "def funct_js(phi, mx, r, d):\n",
    "    ''' Defines the integrand in the definition of current js,\n",
    "        mx, r, d - parameters '''\n",
    "    return (np.cos(phi) * np.exp(-d / np.cos(phi)) * np.cos(r*mx*np.tan(phi)))\n",
    "d = 0.8\n",
    "r = 1.1\n",
    "mx = 0.8\n",
    "funct_js (np.pi/2, mx, r , d)\n",
    "phi = np.linspace(-np.pi/2, np.pi/2, 30, endpoint=True)\n",
    "def funct_Ix(phi, mx, r, d):\n",
    "    ''' Defines the integrand in the definition of current Ix,\n",
    "        mx, r, d - parameters'''\n",
    "    return (np.sin(phi) * np.exp(-d / np.cos(phi)) * np.sin(r*mx*np.tan(phi)))\n",
    "def funct_Iy(phi, mx, r, d):\n",
    "    ''' Defines the integrand in the definition of current Iy,\n",
    "        mx, r, d - parameters'''\n",
    "    return (np.cos(phi) * np.exp(-d / np.cos(phi)) * np.cos(r*mx*np.tan(phi)))"
   ]
  },
  {
   "cell_type": "code",
   "execution_count": 3,
   "id": "83250fe9-fb35-442c-8184-5fe110d71202",
   "metadata": {},
   "outputs": [],
   "source": [
    "Npoint = 1000\n",
    "arr_mx = np.linspace(-1, 1, Npoint, endpoint=True)\n",
    "arr_Ix = np.zeros(Npoint, dtype=np.float64)\n",
    "arr_Iy = np.zeros(Npoint, dtype=np.float64)\n",
    "arr_errx = np.zeros(Npoint, dtype=np.float64)\n",
    "arr_erry = np.zeros(Npoint, dtype=np.float64)\n",
    "# вычисление интегралов\n",
    "for ind in range(Npoint):\n",
    "    mx = arr_mx[ind]\n",
    "    arr_Ix[ind], arr_errx[ind] = quad(funct_Ix, -np.pi/2, np.pi/2,\n",
    "                                      args=(mx, r, d))\n",
    "    arr_Iy[ind], arr_erry[ind] = quad(funct_Iy, -np.pi/2, np.pi/2,\n",
    "                                      args=(mx, r, d))"
   ]
  },
  {
   "cell_type": "code",
   "execution_count": 4,
   "id": "73a9e6e2-bad3-4c81-bcc4-af7b3818e0b5",
   "metadata": {},
   "outputs": [],
   "source": [
    "# using 8th order polynomial model\n",
    "poly_model = odr.polynomial(8)\n",
    "data = odr.Data(arr_mx, arr_Iy)\n",
    "odr_obj = odr.ODR(data, poly_model)\n",
    "\n",
    "# Running ODR fitting\n",
    "output = odr_obj.run()\n",
    "\n",
    "Iyfit = np.poly1d(output.beta[::-1])"
   ]
  },
  {
   "cell_type": "code",
   "execution_count": 5,
   "id": "585904af-da3d-4ddf-92fc-068f7ab01560",
   "metadata": {},
   "outputs": [],
   "source": [
    "# Using 9th order polynomial model\n",
    "poly_model = odr.polynomial(9)\n",
    "data = odr.Data(arr_mx, arr_Ix)\n",
    "odr_obj = odr.ODR(data, poly_model)\n",
    "\n",
    "# Running ODR fitting\n",
    "output = odr_obj.run()\n",
    "\n",
    "Ixfit = np.poly1d(output.beta[::-1])"
   ]
  },
  {
   "cell_type": "code",
   "execution_count": 6,
   "id": "2c57a144-1de6-4f73-97fd-9a9cc6d74175",
   "metadata": {},
   "outputs": [],
   "source": [
    "def jc0(d):\n",
    "    '''Определяет функцию для критического тока при отсутсвии F слоя\n",
    "    d - параметр модели'''\n",
    "    result = quad(lambda phi: np.cos(phi)*np.exp(-d/np.cos(phi)),\n",
    "                  -np.pi/2, np.pi/2)\n",
    "    return result"
   ]
  },
  {
   "cell_type": "code",
   "execution_count": 7,
   "id": "795c1fa6-a781-47db-8972-4f33c5deb0ed",
   "metadata": {},
   "outputs": [],
   "source": [
    "Jc0 = jc0(d)\n",
    "J0 = Jc0[0]"
   ]
  },
  {
   "cell_type": "code",
   "execution_count": 8,
   "id": "7a329477-c746-4e40-a66b-7567feb9702e",
   "metadata": {},
   "outputs": [],
   "source": [
    "def my_sfs(t, S, G, r, alpha, wF, d, V, J0):\n",
    "    '''Определяет правые части ДУ\n",
    "    G, r, alpha, wF - параметры модели\n",
    "    S=[mx, my, mz, ph] - искомая вектор-функция'''\n",
    "    mx = S[0]\n",
    "    my = S[1]\n",
    "    mz = S[2]\n",
    "\n",
    "    Jx = Ixfit(mx)\n",
    "    Jy = Iyfit(mx)\n",
    "\n",
    "    Hx = (G*r*Jx/J0)*(1-np.cos(V*t-r*my))\n",
    "    Hy = (G*r*Jy/J0)*np.sin(V*t-r*my)+my\n",
    "    Hz = 0\n",
    "\n",
    "    H = [Hx, Hy, Hz]\n",
    "    M = [mx, my, mz]\n",
    "\n",
    "    m2 = np.dot(M, M)\n",
    "    HdM = np.dot(H, M)\n",
    "\n",
    "    ksi = -wF/(1+alpha*alpha*m2)\n",
    "\n",
    "    dmx = ksi * ((my*Hz-mz*Hy) + alpha * (mx*HdM-Hx*m2))\n",
    "    dmy = ksi * ((mz*Hx-mx*Hz) + alpha * (my*HdM-Hy*m2))\n",
    "    dmz = ksi * ((mx*Hy-my*Hx) + alpha * (mz*HdM-Hz*m2))\n",
    "\n",
    "    dS = [dmx, dmy, dmz]\n",
    "    return dS"
   ]
  },
  {
   "cell_type": "code",
   "execution_count": 9,
   "id": "70ce9ab2-d410-4b9a-8f71-98326c112819",
   "metadata": {},
   "outputs": [
    {
     "data": {
      "text/plain": [
       "[np.float64(-1.9614992878494144e-10),\n",
       " np.float64(-0.0),\n",
       " np.float64(-1.9614992878494144e-08)]"
      ]
     },
     "execution_count": 9,
     "metadata": {},
     "output_type": "execute_result"
    }
   ],
   "source": [
    "s = np.array([0, 1, 0])\n",
    "dS = my_sfs(0, s, 4.12, 0.5, 0.01, 1, 0.3, 5, J0)\n",
    "dS"
   ]
  },
  {
   "cell_type": "code",
   "execution_count": 83,
   "id": "71337557-68d3-4cdb-92ff-85108d7d13fb",
   "metadata": {},
   "outputs": [],
   "source": [
    "G = 8.5 # отношение энергии Джозефсона к энергии магнитной анизотропии\n",
    "r = 0.5 # параметр спин−орбитального взаимодействия\n",
    "d = 0.3 # безразмерная длина джозефсоновского перехода\n",
    "wF = 1  # собственная частота ферромагнитного резонанса\n",
    "alpha = 0.01 # параметр гильбертовского затухания\n",
    "V = 5  # напряжение в джозефсоновском переходе\n",
    "\n",
    "t0 = 0\n",
    "tf = 1500\n",
    "nt = 15000"
   ]
  },
  {
   "cell_type": "code",
   "execution_count": 84,
   "id": "579c52b4-80e2-403d-b758-cc445ebcd204",
   "metadata": {},
   "outputs": [],
   "source": [
    "mx0 = 0.7871721023608154\n",
    "mz0 = 0.5567178581634524\n",
    "my0 = np.sqrt(1-mx0*mx0-mz0*mz0)\n",
    "f = partial(my_sfs, G=G, r=r, alpha=alpha, wF=wF, d=d, V=V, J0=J0)\n",
    "t_e = np.linspace(t0, tf, nt)\n",
    "s0 = np.array([mx0, my0, mz0])\n",
    "sol_1 = solve_ivp(f, [t0, tf], s0, t_eval=t_e, method='BDF',\n",
    "                  rtol=1e-8, atol=1e-8)"
   ]
  },
  {
   "cell_type": "code",
   "execution_count": 85,
   "id": "faff339c-9347-4871-99c1-dd130934c65a",
   "metadata": {},
   "outputs": [
    {
     "data": {
      "image/png": "[encoded data removed]",
      "text/plain": [
       "<Figure size 1800x600 with 3 Axes>"
      ]
     },
     "metadata": {},
     "output_type": "display_data"
    }
   ],
   "source": [
    "plt.figure(figsize=(18, 6))\n",
    "\n",
    "plt.subplot(1, 3, 1)\n",
    "plt.ylim(-1.2, 1.2)\n",
    "plt.plot(sol_1.t, sol_1.y[0], label='Компонента $m_x $', color='b')\n",
    "plt.xlabel('t', size=16)\n",
    "plt.ylabel('$m_{x}$', size=16)\n",
    "plt.grid(True)  # добавлено для сетки\n",
    "plt.legend(fontsize=12)\n",
    "\n",
    "plt.subplot(1, 3, 2)\n",
    "plt.ylim(-1.2, 1.2)\n",
    "plt.plot(sol_1.t, sol_1.y[1], label='Компонента $m_y $', color='g')\n",
    "plt.xlabel('t', size=16)\n",
    "plt.ylabel('$m_{y}$', size=16)\n",
    "plt.grid(True)  # добавлено для сетки\n",
    "plt.legend(fontsize=12)\n",
    "\n",
    "plt.subplot(1, 3, 3)\n",
    "plt.ylim(-1.2, 1.2)\n",
    "plt.plot(sol_1.t, sol_1.y[2], label='Компонента $m_z $', color='r')\n",
    "plt.xlabel('t', size=16)\n",
    "plt.ylabel('$m_{z}$', size=16)\n",
    "plt.grid(True)  # добавлено для сетки\n",
    "plt.legend(fontsize=12)\n",
    "\n",
    "plt.show()\n"
   ]
  },
  {
   "cell_type": "code",
   "execution_count": 86,
   "id": "27dbf45f-bc3c-4f42-94a9-d64a6631299b",
   "metadata": {},
   "outputs": [],
   "source": [
    "\n",
    "def find_max(x_values,y_values):\n",
    "    # Список для хранения максимумов\n",
    "    maxima = []\n",
    "    # Поиск максимумов\n",
    "    for i in range(1, len(y_values) - 1):\n",
    "        if y_values[i - 1] < y_values[i] > y_values[i + 1]:\n",
    "            maxima.append((x_values[i], y_values[i]))\n",
    "    return maxima\n"
   ]
  },
  {
   "cell_type": "code",
   "execution_count": 87,
   "id": "f7866267-8c44-4797-90fd-75a4311797a3",
   "metadata": {},
   "outputs": [],
   "source": [
    "\n",
    "def find_min(x_values,y_values):\n",
    "    minima = []\n",
    "    # Поиск минимумов\n",
    "    for i in range(1, len(y_values) - 1):\n",
    "        if y_values[i - 1] > y_values[i] < y_values[i + 1]:\n",
    "            minima.append((x_values[i], y_values[i]))\n",
    "    return minima        \n",
    "    \n"
   ]
  },
  {
   "cell_type": "code",
   "execution_count": 92,
   "id": "7b2e5fff-c2bd-4c08-b169-01164da4c3aa",
   "metadata": {},
   "outputs": [
    {
     "name": "stdout",
     "output_type": "stream",
     "text": [
      "477.53183545569703\n"
     ]
    }
   ],
   "source": [
    "t=0\n",
    "for i in range (3):\n",
    "    def show_t_stability (arr_):\n",
    "        unique_values = []  # Инициализация списка уникальных значений\n",
    "        for i in range(len(arr_) - 1, -1, -1):  # Итерация с конца массива\n",
    "            rounded_value = round(arr_[i][1], 2)\n",
    "            if rounded_value not in unique_values:\n",
    "                unique_values.append(rounded_value)\n",
    "                # Если количество уникальных значений больше 2, возвращаем текущий элемент\n",
    "                if len(unique_values) > 5:\n",
    "                    return arr_[i][0]\n",
    "        return None  # Возвращаем None, если условие не выполнено   \n",
    "    minima = find_min( sol_1.t,sol_1.y[i])\n",
    "    maxima = find_max( sol_1.t,sol_1.y[i])\n",
    "    if t< show_t_stability(maxima) or t<show_t_stability(minima):\n",
    "        if show_t_stability(minima)>show_t_stability(maxima):\n",
    "            t=show_t_stability(minima)\n",
    "        else:\n",
    "            t=show_t_stability(minima)\n",
    "print (t)"
   ]
  },
  {
   "cell_type": "code",
   "execution_count": 74,
   "id": "d2f5bab0-9ef4-4988-aa6c-4a9c6299ca9e",
   "metadata": {},
   "outputs": [
    {
     "data": {
      "text/plain": [
       "np.float64(258.4172278151877)"
      ]
     },
     "execution_count": 74,
     "metadata": {},
     "output_type": "execute_result"
    }
   ],
   "source": [
    "show_t_stability(maxima)"
   ]
  },
  {
   "cell_type": "code",
   "execution_count": 93,
   "id": "00621fc3-9fc0-4ec3-ad92-f0a7b166250e",
   "metadata": {},
   "outputs": [
    {
     "name": "stdout",
     "output_type": "stream",
     "text": [
      "Среднее mx после стабилизации: 0.8391881362952202\n",
      "Среднее my после стабилизации: -0.00040826077874684237\n",
      "Среднее mz после стабилизации: 0.29621204285792363\n"
     ]
    }
   ],
   "source": [
    "f = partial(my_sfs, G=G, r=r, alpha=alpha, wF=wF, d=d, V=V, J0=J0)\n",
    "\n",
    "t_e = np.linspace(t0, tf, nt)\n",
    "s0 = np.array([mx0, my0, mz0])\n",
    "\n",
    "# Решение ОДУ\n",
    "sol_1 = solve_ivp(f, [t0, tf], s0, t_eval=t_e, method='BDF',\n",
    "                  rtol=1e-8, atol=1e-8)\n",
    "\n",
    "# Время стабилизации\n",
    "t_stabilize = t\n",
    "\n",
    "# Ищем индекс, где время стабилизации заканчивается\n",
    "idx_stabilize = np.searchsorted(t_e, t_stabilize)\n",
    "\n",
    "# Извлечение стабилизированных значений\n",
    "mx_stabilized = sol_1.y[0][idx_stabilize:]\n",
    "my_stabilized = sol_1.y[1][idx_stabilize:]\n",
    "mz_stabilized = sol_1.y[2][idx_stabilize:]\n",
    "\n",
    "# Усреднение\n",
    "mean_mx = np.mean(mx_stabilized)\n",
    "mean_my = np.mean(my_stabilized)\n",
    "mean_mz = np.mean(mz_stabilized)\n",
    "\n",
    "print(f\"Среднее mx после стабилизации: {mean_mx}\")\n",
    "print(f\"Среднее my после стабилизации: {mean_my}\")\n",
    "print(f\"Среднее mz после стабилизации: {mean_mz}\")"
   ]
  },
  {
   "cell_type": "code",
   "execution_count": 102,
   "id": "3676af4a-5b89-4e01-a51b-c576e1d76df8",
   "metadata": {},
   "outputs": [
    {
     "name": "stdout",
     "output_type": "stream",
     "text": [
      "0.1\n"
     ]
    }
   ],
   "source": [
    "Gi = np.linspace(0.1, 10, 5)\n",
    "print (G)"
   ]
  },
  {
   "cell_type": "code",
   "execution_count": null,
   "id": "af6c63fc-4f13-45f1-872c-a1b8881f4dfe",
   "metadata": {},
   "outputs": [],
   "source": [
    "# 1. Создаем массив значений G с равномерно\n",
    "arr_mean_mx=[]\n",
    "arr_mean_my=[]\n",
    "arr_mean_mz=[]\n",
    "# распределёнными 200-ми точками от 0.1 до 10\n",
    "for i in range (5):\n",
    "    G = Gi[i]\n",
    "    mx0 = 0.7871721023608154\n",
    "    mz0 = 0.5567178581634524\n",
    "    my0 = np.sqrt(1-mx0*mx0-mz0*mz0)\n",
    "    f = partial(my_sfs, G=G, r=r, alpha=alpha, wF=wF, d=d, V=V, J0=J0)\n",
    "    t_e = np.linspace(t0, tf, nt)\n",
    "    s0 = np.array([mx0, my0, mz0])\n",
    "    sol_1 = solve_ivp(f, [t0, tf], s0, t_eval=t_e, method='BDF',\n",
    "                      rtol=1e-8, atol=1e-8)\n",
    "    t=0\n",
    "    for i in range (3):\n",
    "        minima = find_min( sol_1.t,sol_1.y[i])\n",
    "        maxima = find_max( sol_1.t,sol_1.y[i])\n",
    "        if t< show_t_stability(maxima) or t<show_t_stability(minima):\n",
    "            if show_t_stability(minima)>show_t_stability(maxima):\n",
    "                t=show_t_stability(minima)\n",
    "            else:\n",
    "                t=show_t_stability(minima)\n",
    "    f = partial(my_sfs, G=G, r=r, alpha=alpha, wF=wF, d=d, V=V, J0=J0)\n",
    "\n",
    "    t_e = np.linspace(t0, tf, nt)\n",
    "    s0 = np.array([mx0, my0, mz0])\n",
    "    \n",
    "    # Решение ОДУ\n",
    "    sol_1 = solve_ivp(f, [t0, tf], s0, t_eval=t_e, method='BDF',\n",
    "                      rtol=1e-8, atol=1e-8)\n",
    "    \n",
    "    # Время стабилизации\n",
    "    t_stabilize = t\n",
    "    \n",
    "    # Ищем индекс, где время стабилизации заканчивается\n",
    "    idx_stabilize = np.searchsorted(t_e, t_stabilize)\n",
    "    \n",
    "    # Извлечение стабилизированных значений\n",
    "    mx_stabilized = sol_1.y[0][idx_stabilize:]\n",
    "    my_stabilized = sol_1.y[1][idx_stabilize:]\n",
    "    mz_stabilized = sol_1.y[2][idx_stabilize:]\n",
    "    \n",
    "    # Усреднение\n",
    "    arr_mean_mx.append(np.mean(mx_stabilized))\n",
    "    arr_mean_my.append( np.mean(my_stabilized))\n",
    "    arr_mean_mz.append( np.mean(mz_stabilized))\n",
    "         \n",
    "        "
   ]
  },
  {
   "cell_type": "code",
   "execution_count": null,
   "id": "80119378-539a-4c7d-9f1d-597bd76a804e",
   "metadata": {},
   "outputs": [],
   "source": [
    "plt.figure(figsize=(10, 6))\n",
    "plt.plot(G, arr_mean_mx, label='Mean mx', color='blue')\n",
    "plt.plot(G, arr_mean_my, label='Mean my', color='green')\n",
    "plt.plot(G, arr_mean_mz, label='Mean mz', color='red')\n",
    "\n",
    "# Настройки графика\n",
    "plt.title('Зависимость средних значений от G')\n",
    "plt.xlabel('G')\n",
    "plt.ylabel('Средние значения')\n",
    "plt.legend()\n",
    "plt.grid()\n",
    "plt.show()"
   ]
  }
 ],
 "metadata": {
  "kernelspec": {
   "display_name": "Python 3 (ipykernel)",
   "language": "python",
   "name": "python3"
  },
  "language_info": {
   "codemirror_mode": {
    "name": "ipython",
    "version": 3
   },
   "file_extension": ".py",
   "mimetype": "text/x-python",
   "name": "python",
   "nbconvert_exporter": "python",
   "pygments_lexer": "ipython3",
   "version": "3.13.0"
  }
 },
 "nbformat": 4,
 "nbformat_minor": 5
}
